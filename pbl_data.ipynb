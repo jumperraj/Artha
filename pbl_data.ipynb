{
 "cells": [
  {
   "cell_type": "markdown",
   "id": "5f776d30",
   "metadata": {},
   "source": [
    "**PBL project**"
   ]
  },
  {
   "cell_type": "code",
   "execution_count": 1,
   "id": "79bb6ae5",
   "metadata": {},
   "outputs": [],
   "source": [
    "import numpy as np\n",
    "import pandas as pd\n",
    "import matplotlib.pyplot as plt\n"
   ]
  },
  {
   "cell_type": "code",
   "execution_count": 2,
   "id": "3e622987",
   "metadata": {},
   "outputs": [
    {
     "data": {
      "text/html": [
       "<div>\n",
       "<style scoped>\n",
       "    .dataframe tbody tr th:only-of-type {\n",
       "        vertical-align: middle;\n",
       "    }\n",
       "\n",
       "    .dataframe tbody tr th {\n",
       "        vertical-align: top;\n",
       "    }\n",
       "\n",
       "    .dataframe thead th {\n",
       "        text-align: right;\n",
       "    }\n",
       "</style>\n",
       "<table border=\"1\" class=\"dataframe\">\n",
       "  <thead>\n",
       "    <tr style=\"text-align: right;\">\n",
       "      <th></th>\n",
       "      <th>Amount</th>\n",
       "      <th>Sender_name</th>\n",
       "      <th>Transaction ID</th>\n",
       "      <th>repayment</th>\n",
       "      <th>Date-Time</th>\n",
       "    </tr>\n",
       "  </thead>\n",
       "  <tbody>\n",
       "    <tr>\n",
       "      <th>0</th>\n",
       "      <td>50231.60</td>\n",
       "      <td>Catherine Williams</td>\n",
       "      <td>8682</td>\n",
       "      <td>352.14</td>\n",
       "      <td>2008-09-04 08:52:05</td>\n",
       "    </tr>\n",
       "    <tr>\n",
       "      <th>1</th>\n",
       "      <td>59762.30</td>\n",
       "      <td>Paul Ford</td>\n",
       "      <td>4663</td>\n",
       "      <td>810.30</td>\n",
       "      <td>2008-08-10 11:29:12</td>\n",
       "    </tr>\n",
       "    <tr>\n",
       "      <th>2</th>\n",
       "      <td>78961.90</td>\n",
       "      <td>Timothy Swanson</td>\n",
       "      <td>5389</td>\n",
       "      <td>593.64</td>\n",
       "      <td>2008-05-31 09:44:27</td>\n",
       "    </tr>\n",
       "    <tr>\n",
       "      <th>3</th>\n",
       "      <td>40477.47</td>\n",
       "      <td>Kevin Foster</td>\n",
       "      <td>9626</td>\n",
       "      <td>445.76</td>\n",
       "      <td>2008-07-24 16:45:50</td>\n",
       "    </tr>\n",
       "    <tr>\n",
       "      <th>4</th>\n",
       "      <td>77404.91</td>\n",
       "      <td>Haley Becker</td>\n",
       "      <td>7604</td>\n",
       "      <td>729.52</td>\n",
       "      <td>2008-06-05 03:04:11</td>\n",
       "    </tr>\n",
       "  </tbody>\n",
       "</table>\n",
       "</div>"
      ],
      "text/plain": [
       "     Amount         Sender_name  Transaction ID  repayment  \\\n",
       "0  50231.60  Catherine Williams            8682     352.14   \n",
       "1  59762.30           Paul Ford            4663     810.30   \n",
       "2  78961.90     Timothy Swanson            5389     593.64   \n",
       "3  40477.47        Kevin Foster            9626     445.76   \n",
       "4  77404.91        Haley Becker            7604     729.52   \n",
       "\n",
       "             Date-Time  \n",
       "0  2008-09-04 08:52:05  \n",
       "1  2008-08-10 11:29:12  \n",
       "2  2008-05-31 09:44:27  \n",
       "3  2008-07-24 16:45:50  \n",
       "4  2008-06-05 03:04:11  "
      ]
     },
     "execution_count": 2,
     "metadata": {},
     "output_type": "execute_result"
    }
   ],
   "source": [
    "df =pd.read_csv(r'C:\\Users\\abhinav\\PycharmProjects\\pbl\\abhi3.csv')\n",
    "df.head()\n"
   ]
  },
  {
   "cell_type": "code",
   "execution_count": 3,
   "id": "853df52a",
   "metadata": {},
   "outputs": [
    {
     "name": "stderr",
     "output_type": "stream",
     "text": [
      "C:\\Users\\abhinav\\AppData\\Local\\Temp\\ipykernel_30388\\1134722465.py:1: FutureWarning: The default value of numeric_only in DataFrame.corr is deprecated. In a future version, it will default to False. Select only valid columns or specify the value of numeric_only to silence this warning.\n",
      "  df.corr()\n"
     ]
    },
    {
     "data": {
      "text/html": [
       "<div>\n",
       "<style scoped>\n",
       "    .dataframe tbody tr th:only-of-type {\n",
       "        vertical-align: middle;\n",
       "    }\n",
       "\n",
       "    .dataframe tbody tr th {\n",
       "        vertical-align: top;\n",
       "    }\n",
       "\n",
       "    .dataframe thead th {\n",
       "        text-align: right;\n",
       "    }\n",
       "</style>\n",
       "<table border=\"1\" class=\"dataframe\">\n",
       "  <thead>\n",
       "    <tr style=\"text-align: right;\">\n",
       "      <th></th>\n",
       "      <th>Amount</th>\n",
       "      <th>Transaction ID</th>\n",
       "      <th>repayment</th>\n",
       "    </tr>\n",
       "  </thead>\n",
       "  <tbody>\n",
       "    <tr>\n",
       "      <th>Amount</th>\n",
       "      <td>1.000000</td>\n",
       "      <td>-0.081033</td>\n",
       "      <td>-0.009387</td>\n",
       "    </tr>\n",
       "    <tr>\n",
       "      <th>Transaction ID</th>\n",
       "      <td>-0.081033</td>\n",
       "      <td>1.000000</td>\n",
       "      <td>-0.112977</td>\n",
       "    </tr>\n",
       "    <tr>\n",
       "      <th>repayment</th>\n",
       "      <td>-0.009387</td>\n",
       "      <td>-0.112977</td>\n",
       "      <td>1.000000</td>\n",
       "    </tr>\n",
       "  </tbody>\n",
       "</table>\n",
       "</div>"
      ],
      "text/plain": [
       "                  Amount  Transaction ID  repayment\n",
       "Amount          1.000000       -0.081033  -0.009387\n",
       "Transaction ID -0.081033        1.000000  -0.112977\n",
       "repayment      -0.009387       -0.112977   1.000000"
      ]
     },
     "execution_count": 3,
     "metadata": {},
     "output_type": "execute_result"
    }
   ],
   "source": [
    "df.corr()"
   ]
  },
  {
   "cell_type": "code",
   "execution_count": 4,
   "id": "dd569c70",
   "metadata": {},
   "outputs": [
    {
     "data": {
      "text/html": [
       "<div>\n",
       "<style scoped>\n",
       "    .dataframe tbody tr th:only-of-type {\n",
       "        vertical-align: middle;\n",
       "    }\n",
       "\n",
       "    .dataframe tbody tr th {\n",
       "        vertical-align: top;\n",
       "    }\n",
       "\n",
       "    .dataframe thead th {\n",
       "        text-align: right;\n",
       "    }\n",
       "</style>\n",
       "<table border=\"1\" class=\"dataframe\">\n",
       "  <thead>\n",
       "    <tr style=\"text-align: right;\">\n",
       "      <th></th>\n",
       "      <th>Amount</th>\n",
       "      <th>Transaction ID</th>\n",
       "      <th>repayment</th>\n",
       "    </tr>\n",
       "  </thead>\n",
       "  <tbody>\n",
       "    <tr>\n",
       "      <th>count</th>\n",
       "      <td>100.000000</td>\n",
       "      <td>100.000000</td>\n",
       "      <td>100.000000</td>\n",
       "    </tr>\n",
       "    <tr>\n",
       "      <th>mean</th>\n",
       "      <td>57749.842400</td>\n",
       "      <td>6743.130000</td>\n",
       "      <td>556.336100</td>\n",
       "    </tr>\n",
       "    <tr>\n",
       "      <th>std</th>\n",
       "      <td>25511.602446</td>\n",
       "      <td>1746.718046</td>\n",
       "      <td>252.253236</td>\n",
       "    </tr>\n",
       "    <tr>\n",
       "      <th>min</th>\n",
       "      <td>10105.950000</td>\n",
       "      <td>4069.000000</td>\n",
       "      <td>107.830000</td>\n",
       "    </tr>\n",
       "    <tr>\n",
       "      <th>25%</th>\n",
       "      <td>38203.532500</td>\n",
       "      <td>5056.500000</td>\n",
       "      <td>339.417500</td>\n",
       "    </tr>\n",
       "    <tr>\n",
       "      <th>50%</th>\n",
       "      <td>59231.400000</td>\n",
       "      <td>6510.000000</td>\n",
       "      <td>578.160000</td>\n",
       "    </tr>\n",
       "    <tr>\n",
       "      <th>75%</th>\n",
       "      <td>77688.247500</td>\n",
       "      <td>8309.750000</td>\n",
       "      <td>762.285000</td>\n",
       "    </tr>\n",
       "    <tr>\n",
       "      <th>max</th>\n",
       "      <td>99855.550000</td>\n",
       "      <td>9934.000000</td>\n",
       "      <td>990.700000</td>\n",
       "    </tr>\n",
       "  </tbody>\n",
       "</table>\n",
       "</div>"
      ],
      "text/plain": [
       "             Amount  Transaction ID   repayment\n",
       "count    100.000000      100.000000  100.000000\n",
       "mean   57749.842400     6743.130000  556.336100\n",
       "std    25511.602446     1746.718046  252.253236\n",
       "min    10105.950000     4069.000000  107.830000\n",
       "25%    38203.532500     5056.500000  339.417500\n",
       "50%    59231.400000     6510.000000  578.160000\n",
       "75%    77688.247500     8309.750000  762.285000\n",
       "max    99855.550000     9934.000000  990.700000"
      ]
     },
     "execution_count": 4,
     "metadata": {},
     "output_type": "execute_result"
    }
   ],
   "source": [
    "df.describe()"
   ]
  },
  {
   "cell_type": "code",
   "execution_count": 5,
   "id": "a9d9a34e",
   "metadata": {},
   "outputs": [
    {
     "name": "stdout",
     "output_type": "stream",
     "text": [
      "Amount                       10105.95\n",
      "Sender_name             Alicia Davies\n",
      "Transaction ID                   4069\n",
      "repayment                      107.83\n",
      "Date-Time         2008-01-05 20:58:33\n",
      "dtype: object\n"
     ]
    }
   ],
   "source": [
    "ls =  df.min()\n",
    "print(ls)"
   ]
  },
  {
   "cell_type": "code",
   "execution_count": 6,
   "id": "6d625f8d",
   "metadata": {},
   "outputs": [
    {
     "name": "stdout",
     "output_type": "stream",
     "text": [
      "Alicia Davies\n"
     ]
    }
   ],
   "source": [
    "print(ls[1])"
   ]
  },
  {
   "cell_type": "markdown",
   "id": "8af0e236",
   "metadata": {},
   "source": [
    "defining the stagnant amount\n"
   ]
  },
  {
   "cell_type": "code",
   "execution_count": 7,
   "id": "70d162a3",
   "metadata": {},
   "outputs": [],
   "source": [
    "arr1 = df.loc[:,'Amount']\n",
    "arr2 = df.loc[:,'repayment']"
   ]
  },
  {
   "cell_type": "code",
   "execution_count": 8,
   "id": "2475dc6c",
   "metadata": {},
   "outputs": [],
   "source": [
    "arr3 = arr1-arr2"
   ]
  },
  {
   "cell_type": "code",
   "execution_count": 9,
   "id": "75ba28c7",
   "metadata": {},
   "outputs": [
    {
     "data": {
      "text/plain": [
       "0     49879.46\n",
       "1     58952.00\n",
       "2     78368.26\n",
       "3     40031.71\n",
       "4     76675.39\n",
       "        ...   \n",
       "95    17725.80\n",
       "96    61806.33\n",
       "97    41084.05\n",
       "98    66950.03\n",
       "99    74337.88\n",
       "Length: 100, dtype: float64"
      ]
     },
     "execution_count": 9,
     "metadata": {},
     "output_type": "execute_result"
    }
   ],
   "source": [
    "arr3"
   ]
  },
  {
   "cell_type": "code",
   "execution_count": 10,
   "id": "6c16c650",
   "metadata": {},
   "outputs": [
    {
     "data": {
      "text/plain": [
       "0     49879.46\n",
       "1     58952.00\n",
       "2     78368.26\n",
       "3     40031.71\n",
       "4     76675.39\n",
       "        ...   \n",
       "95    17725.80\n",
       "96    61806.33\n",
       "97    41084.05\n",
       "98    66950.03\n",
       "99    74337.88\n",
       "Length: 100, dtype: float64"
      ]
     },
     "execution_count": 10,
     "metadata": {},
     "output_type": "execute_result"
    }
   ],
   "source": [
    "arr1\n",
    "arr2\n",
    "arr3"
   ]
  },
  {
   "cell_type": "code",
   "execution_count": 11,
   "id": "0cea1ad1",
   "metadata": {},
   "outputs": [
    {
     "data": {
      "text/plain": [
       "0     50231.60\n",
       "1     59762.30\n",
       "2     78961.90\n",
       "3     40477.47\n",
       "4     77404.91\n",
       "        ...   \n",
       "95    17987.60\n",
       "96    62119.73\n",
       "97    41629.24\n",
       "98    67740.17\n",
       "99    74715.46\n",
       "Name: Amount, Length: 100, dtype: float64"
      ]
     },
     "execution_count": 11,
     "metadata": {},
     "output_type": "execute_result"
    }
   ],
   "source": [
    "arr1"
   ]
  },
  {
   "cell_type": "code",
   "execution_count": 12,
   "id": "af9f9445",
   "metadata": {},
   "outputs": [
    {
     "data": {
      "text/plain": [
       "0     352.14\n",
       "1     810.30\n",
       "2     593.64\n",
       "3     445.76\n",
       "4     729.52\n",
       "       ...  \n",
       "95    261.80\n",
       "96    313.40\n",
       "97    545.19\n",
       "98    790.14\n",
       "99    377.58\n",
       "Name: repayment, Length: 100, dtype: float64"
      ]
     },
     "execution_count": 12,
     "metadata": {},
     "output_type": "execute_result"
    }
   ],
   "source": [
    "arr2"
   ]
  },
  {
   "cell_type": "code",
   "execution_count": 13,
   "id": "0db591c9",
   "metadata": {},
   "outputs": [
    {
     "data": {
      "text/plain": [
       "0     49879.46\n",
       "1     58952.00\n",
       "2     78368.26\n",
       "3     40031.71\n",
       "4     76675.39\n",
       "        ...   \n",
       "95    17725.80\n",
       "96    61806.33\n",
       "97    41084.05\n",
       "98    66950.03\n",
       "99    74337.88\n",
       "Length: 100, dtype: float64"
      ]
     },
     "execution_count": 13,
     "metadata": {},
     "output_type": "execute_result"
    }
   ],
   "source": [
    "arr3"
   ]
  },
  {
   "cell_type": "code",
   "execution_count": 14,
   "id": "be1edef7",
   "metadata": {},
   "outputs": [],
   "source": [
    "df = df.assign(difference = arr3)"
   ]
  },
  {
   "cell_type": "code",
   "execution_count": 15,
   "id": "ad291207",
   "metadata": {},
   "outputs": [
    {
     "data": {
      "text/html": [
       "<div>\n",
       "<style scoped>\n",
       "    .dataframe tbody tr th:only-of-type {\n",
       "        vertical-align: middle;\n",
       "    }\n",
       "\n",
       "    .dataframe tbody tr th {\n",
       "        vertical-align: top;\n",
       "    }\n",
       "\n",
       "    .dataframe thead th {\n",
       "        text-align: right;\n",
       "    }\n",
       "</style>\n",
       "<table border=\"1\" class=\"dataframe\">\n",
       "  <thead>\n",
       "    <tr style=\"text-align: right;\">\n",
       "      <th></th>\n",
       "      <th>Amount</th>\n",
       "      <th>Sender_name</th>\n",
       "      <th>Transaction ID</th>\n",
       "      <th>repayment</th>\n",
       "      <th>Date-Time</th>\n",
       "      <th>difference</th>\n",
       "    </tr>\n",
       "  </thead>\n",
       "  <tbody>\n",
       "    <tr>\n",
       "      <th>0</th>\n",
       "      <td>50231.60</td>\n",
       "      <td>Catherine Williams</td>\n",
       "      <td>8682</td>\n",
       "      <td>352.14</td>\n",
       "      <td>2008-09-04 08:52:05</td>\n",
       "      <td>49879.46</td>\n",
       "    </tr>\n",
       "    <tr>\n",
       "      <th>1</th>\n",
       "      <td>59762.30</td>\n",
       "      <td>Paul Ford</td>\n",
       "      <td>4663</td>\n",
       "      <td>810.30</td>\n",
       "      <td>2008-08-10 11:29:12</td>\n",
       "      <td>58952.00</td>\n",
       "    </tr>\n",
       "    <tr>\n",
       "      <th>2</th>\n",
       "      <td>78961.90</td>\n",
       "      <td>Timothy Swanson</td>\n",
       "      <td>5389</td>\n",
       "      <td>593.64</td>\n",
       "      <td>2008-05-31 09:44:27</td>\n",
       "      <td>78368.26</td>\n",
       "    </tr>\n",
       "    <tr>\n",
       "      <th>3</th>\n",
       "      <td>40477.47</td>\n",
       "      <td>Kevin Foster</td>\n",
       "      <td>9626</td>\n",
       "      <td>445.76</td>\n",
       "      <td>2008-07-24 16:45:50</td>\n",
       "      <td>40031.71</td>\n",
       "    </tr>\n",
       "    <tr>\n",
       "      <th>4</th>\n",
       "      <td>77404.91</td>\n",
       "      <td>Haley Becker</td>\n",
       "      <td>7604</td>\n",
       "      <td>729.52</td>\n",
       "      <td>2008-06-05 03:04:11</td>\n",
       "      <td>76675.39</td>\n",
       "    </tr>\n",
       "  </tbody>\n",
       "</table>\n",
       "</div>"
      ],
      "text/plain": [
       "     Amount         Sender_name  Transaction ID  repayment  \\\n",
       "0  50231.60  Catherine Williams            8682     352.14   \n",
       "1  59762.30           Paul Ford            4663     810.30   \n",
       "2  78961.90     Timothy Swanson            5389     593.64   \n",
       "3  40477.47        Kevin Foster            9626     445.76   \n",
       "4  77404.91        Haley Becker            7604     729.52   \n",
       "\n",
       "             Date-Time  difference  \n",
       "0  2008-09-04 08:52:05    49879.46  \n",
       "1  2008-08-10 11:29:12    58952.00  \n",
       "2  2008-05-31 09:44:27    78368.26  \n",
       "3  2008-07-24 16:45:50    40031.71  \n",
       "4  2008-06-05 03:04:11    76675.39  "
      ]
     },
     "execution_count": 15,
     "metadata": {},
     "output_type": "execute_result"
    }
   ],
   "source": [
    "\n",
    "df.head()"
   ]
  },
  {
   "cell_type": "markdown",
   "id": "fd7bb794",
   "metadata": {},
   "source": [
    "we have to definne a monthly statement"
   ]
  },
  {
   "cell_type": "code",
   "execution_count": 16,
   "id": "379b64e9",
   "metadata": {},
   "outputs": [],
   "source": [
    "df.sort_values(by=['Date-Time'],inplace = True)\n",
    "\n"
   ]
  },
  {
   "cell_type": "code",
   "execution_count": 17,
   "id": "0efb39d7",
   "metadata": {},
   "outputs": [],
   "source": [
    "df.reset_index(drop=True,inplace=True)"
   ]
  },
  {
   "cell_type": "code",
   "execution_count": 18,
   "id": "a5b7d41b",
   "metadata": {},
   "outputs": [
    {
     "data": {
      "text/html": [
       "<div>\n",
       "<style scoped>\n",
       "    .dataframe tbody tr th:only-of-type {\n",
       "        vertical-align: middle;\n",
       "    }\n",
       "\n",
       "    .dataframe tbody tr th {\n",
       "        vertical-align: top;\n",
       "    }\n",
       "\n",
       "    .dataframe thead th {\n",
       "        text-align: right;\n",
       "    }\n",
       "</style>\n",
       "<table border=\"1\" class=\"dataframe\">\n",
       "  <thead>\n",
       "    <tr style=\"text-align: right;\">\n",
       "      <th></th>\n",
       "      <th>Amount</th>\n",
       "      <th>Sender_name</th>\n",
       "      <th>Transaction ID</th>\n",
       "      <th>repayment</th>\n",
       "      <th>Date-Time</th>\n",
       "      <th>difference</th>\n",
       "    </tr>\n",
       "  </thead>\n",
       "  <tbody>\n",
       "    <tr>\n",
       "      <th>0</th>\n",
       "      <td>35654.22</td>\n",
       "      <td>Jody Wade</td>\n",
       "      <td>5322</td>\n",
       "      <td>433.37</td>\n",
       "      <td>2008-01-05 20:58:33</td>\n",
       "      <td>35220.85</td>\n",
       "    </tr>\n",
       "    <tr>\n",
       "      <th>1</th>\n",
       "      <td>10281.48</td>\n",
       "      <td>Shelley Martinez</td>\n",
       "      <td>8399</td>\n",
       "      <td>596.33</td>\n",
       "      <td>2008-01-09 13:16:36</td>\n",
       "      <td>9685.15</td>\n",
       "    </tr>\n",
       "    <tr>\n",
       "      <th>2</th>\n",
       "      <td>14715.38</td>\n",
       "      <td>Michaela Robinson</td>\n",
       "      <td>7170</td>\n",
       "      <td>371.63</td>\n",
       "      <td>2008-01-18 15:14:39</td>\n",
       "      <td>14343.75</td>\n",
       "    </tr>\n",
       "    <tr>\n",
       "      <th>3</th>\n",
       "      <td>74715.46</td>\n",
       "      <td>Taylor Li</td>\n",
       "      <td>7958</td>\n",
       "      <td>377.58</td>\n",
       "      <td>2008-01-23 15:54:16</td>\n",
       "      <td>74337.88</td>\n",
       "    </tr>\n",
       "    <tr>\n",
       "      <th>4</th>\n",
       "      <td>99855.55</td>\n",
       "      <td>Heather Walker</td>\n",
       "      <td>5955</td>\n",
       "      <td>107.83</td>\n",
       "      <td>2008-01-28 09:24:45</td>\n",
       "      <td>99747.72</td>\n",
       "    </tr>\n",
       "  </tbody>\n",
       "</table>\n",
       "</div>"
      ],
      "text/plain": [
       "     Amount        Sender_name  Transaction ID  repayment  \\\n",
       "0  35654.22          Jody Wade            5322     433.37   \n",
       "1  10281.48   Shelley Martinez            8399     596.33   \n",
       "2  14715.38  Michaela Robinson            7170     371.63   \n",
       "3  74715.46          Taylor Li            7958     377.58   \n",
       "4  99855.55     Heather Walker            5955     107.83   \n",
       "\n",
       "             Date-Time  difference  \n",
       "0  2008-01-05 20:58:33    35220.85  \n",
       "1  2008-01-09 13:16:36     9685.15  \n",
       "2  2008-01-18 15:14:39    14343.75  \n",
       "3  2008-01-23 15:54:16    74337.88  \n",
       "4  2008-01-28 09:24:45    99747.72  "
      ]
     },
     "execution_count": 18,
     "metadata": {},
     "output_type": "execute_result"
    }
   ],
   "source": [
    "df.head()"
   ]
  },
  {
   "cell_type": "code",
   "execution_count": 19,
   "id": "bfd3cbd0",
   "metadata": {},
   "outputs": [
    {
     "data": {
      "image/png": "[encoded data removed]",
      "text/plain": [
       "<Figure size 640x480 with 1 Axes>"
      ]
     },
     "metadata": {},
     "output_type": "display_data"
    }
   ],
   "source": [
    "arr3=arr3/100\n",
    "arr4 =np.arange(4000)\n",
    "list1= list(arr3)\n",
    "plt.plot(list1)\n",
    "plt.show()"
   ]
  },
  {
   "cell_type": "code",
   "execution_count": 20,
   "id": "dbd8ba92",
   "metadata": {},
   "outputs": [
    {
     "data": {
      "text/plain": [
       "0               Jody Wade\n",
       "1        Shelley Martinez\n",
       "2       Michaela Robinson\n",
       "3               Taylor Li\n",
       "4          Heather Walker\n",
       "             ...         \n",
       "95         Michael Morgan\n",
       "96       Carlos Alexander\n",
       "97    Christopher Schmidt\n",
       "98           Paula Archer\n",
       "99         Ronnie Santana\n",
       "Name: Sender_name, Length: 100, dtype: object"
      ]
     },
     "execution_count": 20,
     "metadata": {},
     "output_type": "execute_result"
    }
   ],
   "source": [
    "arr4 = df.loc[:,'Sender_name']\n",
    "arr4"
   ]
  },
  {
   "cell_type": "code",
   "execution_count": 21,
   "id": "6d3bbccd",
   "metadata": {},
   "outputs": [],
   "source": [
    "df['Sender_name'].mask(df['Sender_name']==\"june\",inplace=True)\n",
    "\n"
   ]
  },
  {
   "cell_type": "code",
   "execution_count": 22,
   "id": "322fd411",
   "metadata": {},
   "outputs": [
    {
     "data": {
      "text/html": [
       "<div>\n",
       "<style scoped>\n",
       "    .dataframe tbody tr th:only-of-type {\n",
       "        vertical-align: middle;\n",
       "    }\n",
       "\n",
       "    .dataframe tbody tr th {\n",
       "        vertical-align: top;\n",
       "    }\n",
       "\n",
       "    .dataframe thead th {\n",
       "        text-align: right;\n",
       "    }\n",
       "</style>\n",
       "<table border=\"1\" class=\"dataframe\">\n",
       "  <thead>\n",
       "    <tr style=\"text-align: right;\">\n",
       "      <th></th>\n",
       "      <th>Amount</th>\n",
       "      <th>Sender_name</th>\n",
       "      <th>Transaction ID</th>\n",
       "      <th>repayment</th>\n",
       "      <th>Date-Time</th>\n",
       "      <th>difference</th>\n",
       "    </tr>\n",
       "  </thead>\n",
       "  <tbody>\n",
       "    <tr>\n",
       "      <th>0</th>\n",
       "      <td>35654.22</td>\n",
       "      <td>Jody Wade</td>\n",
       "      <td>5322</td>\n",
       "      <td>433.37</td>\n",
       "      <td>2008-01-05 20:58:33</td>\n",
       "      <td>35220.85</td>\n",
       "    </tr>\n",
       "    <tr>\n",
       "      <th>1</th>\n",
       "      <td>10281.48</td>\n",
       "      <td>Shelley Martinez</td>\n",
       "      <td>8399</td>\n",
       "      <td>596.33</td>\n",
       "      <td>2008-01-09 13:16:36</td>\n",
       "      <td>9685.15</td>\n",
       "    </tr>\n",
       "    <tr>\n",
       "      <th>2</th>\n",
       "      <td>14715.38</td>\n",
       "      <td>Michaela Robinson</td>\n",
       "      <td>7170</td>\n",
       "      <td>371.63</td>\n",
       "      <td>2008-01-18 15:14:39</td>\n",
       "      <td>14343.75</td>\n",
       "    </tr>\n",
       "    <tr>\n",
       "      <th>3</th>\n",
       "      <td>74715.46</td>\n",
       "      <td>Taylor Li</td>\n",
       "      <td>7958</td>\n",
       "      <td>377.58</td>\n",
       "      <td>2008-01-23 15:54:16</td>\n",
       "      <td>74337.88</td>\n",
       "    </tr>\n",
       "    <tr>\n",
       "      <th>4</th>\n",
       "      <td>99855.55</td>\n",
       "      <td>Heather Walker</td>\n",
       "      <td>5955</td>\n",
       "      <td>107.83</td>\n",
       "      <td>2008-01-28 09:24:45</td>\n",
       "      <td>99747.72</td>\n",
       "    </tr>\n",
       "    <tr>\n",
       "      <th>...</th>\n",
       "      <td>...</td>\n",
       "      <td>...</td>\n",
       "      <td>...</td>\n",
       "      <td>...</td>\n",
       "      <td>...</td>\n",
       "      <td>...</td>\n",
       "    </tr>\n",
       "    <tr>\n",
       "      <th>95</th>\n",
       "      <td>72738.79</td>\n",
       "      <td>Michael Morgan</td>\n",
       "      <td>5822</td>\n",
       "      <td>394.11</td>\n",
       "      <td>2008-11-28 08:34:48</td>\n",
       "      <td>72344.68</td>\n",
       "    </tr>\n",
       "    <tr>\n",
       "      <th>96</th>\n",
       "      <td>95472.15</td>\n",
       "      <td>Carlos Alexander</td>\n",
       "      <td>4196</td>\n",
       "      <td>216.40</td>\n",
       "      <td>2008-11-29 06:06:06</td>\n",
       "      <td>95255.75</td>\n",
       "    </tr>\n",
       "    <tr>\n",
       "      <th>97</th>\n",
       "      <td>28928.15</td>\n",
       "      <td>Christopher Schmidt</td>\n",
       "      <td>6355</td>\n",
       "      <td>373.79</td>\n",
       "      <td>2008-12-02 08:16:53</td>\n",
       "      <td>28554.36</td>\n",
       "    </tr>\n",
       "    <tr>\n",
       "      <th>98</th>\n",
       "      <td>74612.63</td>\n",
       "      <td>Paula Archer</td>\n",
       "      <td>8152</td>\n",
       "      <td>856.88</td>\n",
       "      <td>2008-12-26 18:09:44</td>\n",
       "      <td>73755.75</td>\n",
       "    </tr>\n",
       "    <tr>\n",
       "      <th>99</th>\n",
       "      <td>11015.88</td>\n",
       "      <td>Ronnie Santana</td>\n",
       "      <td>4626</td>\n",
       "      <td>903.54</td>\n",
       "      <td>2008-12-30 22:20:25</td>\n",
       "      <td>10112.34</td>\n",
       "    </tr>\n",
       "  </tbody>\n",
       "</table>\n",
       "<p>100 rows × 6 columns</p>\n",
       "</div>"
      ],
      "text/plain": [
       "      Amount          Sender_name  Transaction ID  repayment  \\\n",
       "0   35654.22            Jody Wade            5322     433.37   \n",
       "1   10281.48     Shelley Martinez            8399     596.33   \n",
       "2   14715.38    Michaela Robinson            7170     371.63   \n",
       "3   74715.46            Taylor Li            7958     377.58   \n",
       "4   99855.55       Heather Walker            5955     107.83   \n",
       "..       ...                  ...             ...        ...   \n",
       "95  72738.79       Michael Morgan            5822     394.11   \n",
       "96  95472.15     Carlos Alexander            4196     216.40   \n",
       "97  28928.15  Christopher Schmidt            6355     373.79   \n",
       "98  74612.63         Paula Archer            8152     856.88   \n",
       "99  11015.88       Ronnie Santana            4626     903.54   \n",
       "\n",
       "              Date-Time  difference  \n",
       "0   2008-01-05 20:58:33    35220.85  \n",
       "1   2008-01-09 13:16:36     9685.15  \n",
       "2   2008-01-18 15:14:39    14343.75  \n",
       "3   2008-01-23 15:54:16    74337.88  \n",
       "4   2008-01-28 09:24:45    99747.72  \n",
       "..                  ...         ...  \n",
       "95  2008-11-28 08:34:48    72344.68  \n",
       "96  2008-11-29 06:06:06    95255.75  \n",
       "97  2008-12-02 08:16:53    28554.36  \n",
       "98  2008-12-26 18:09:44    73755.75  \n",
       "99  2008-12-30 22:20:25    10112.34  \n",
       "\n",
       "[100 rows x 6 columns]"
      ]
     },
     "execution_count": 22,
     "metadata": {},
     "output_type": "execute_result"
    }
   ],
   "source": [
    "df\n"
   ]
  },
  {
   "cell_type": "code",
   "execution_count": 23,
   "id": "2ec82379",
   "metadata": {},
   "outputs": [],
   "source": [
    "df[\"Sender_name\"]= df[\"Sender_name\"].str.replace(\"june\", \"may\", case = False)\n"
   ]
  },
  {
   "cell_type": "code",
   "execution_count": 24,
   "id": "c8224532",
   "metadata": {},
   "outputs": [
    {
     "data": {
      "text/html": [
       "<div>\n",
       "<style scoped>\n",
       "    .dataframe tbody tr th:only-of-type {\n",
       "        vertical-align: middle;\n",
       "    }\n",
       "\n",
       "    .dataframe tbody tr th {\n",
       "        vertical-align: top;\n",
       "    }\n",
       "\n",
       "    .dataframe thead th {\n",
       "        text-align: right;\n",
       "    }\n",
       "</style>\n",
       "<table border=\"1\" class=\"dataframe\">\n",
       "  <thead>\n",
       "    <tr style=\"text-align: right;\">\n",
       "      <th></th>\n",
       "      <th>Amount</th>\n",
       "      <th>Sender_name</th>\n",
       "      <th>Transaction ID</th>\n",
       "      <th>repayment</th>\n",
       "      <th>Date-Time</th>\n",
       "      <th>difference</th>\n",
       "    </tr>\n",
       "  </thead>\n",
       "  <tbody>\n",
       "    <tr>\n",
       "      <th>0</th>\n",
       "      <td>35654.22</td>\n",
       "      <td>Jody Wade</td>\n",
       "      <td>5322.0</td>\n",
       "      <td>433.37</td>\n",
       "      <td>2008-01-05 20:58:33</td>\n",
       "      <td>35220.85</td>\n",
       "    </tr>\n",
       "  </tbody>\n",
       "</table>\n",
       "</div>"
      ],
      "text/plain": [
       "     Amount Sender_name  Transaction ID  repayment            Date-Time  \\\n",
       "0  35654.22   Jody Wade          5322.0     433.37  2008-01-05 20:58:33   \n",
       "\n",
       "   difference  \n",
       "0    35220.85  "
      ]
     },
     "execution_count": 24,
     "metadata": {},
     "output_type": "execute_result"
    }
   ],
   "source": [
    "filter= df[\"Sender_name\"]==\"Jody Wade\"\n",
    "df.where(filter).dropna()\n",
    "\n",
    "\n"
   ]
  }
 ],
 "metadata": {
  "celltoolbar": "Tags",
  "kernelspec": {
   "display_name": "Python 3 (ipykernel)",
   "language": "python",
   "name": "python3"
  },
  "language_info": {
   "codemirror_mode": {
    "name": "ipython",
    "version": 3
   },
   "file_extension": ".py",
   "mimetype": "text/x-python",
   "name": "python",
   "nbconvert_exporter": "python",
   "pygments_lexer": "ipython3",
   "version": "3.9.13"
  },
  "widgets": {
   "application/vnd.jupyter.widget-state+json": {
    "state": {},
    "version_major": 2,
    "version_minor": 0
   }
  }
 },
 "nbformat": 4,
 "nbformat_minor": 5
}
